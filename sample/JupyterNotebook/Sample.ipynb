{
 "cells": [
  {
   "cell_type": "markdown",
   "id": "cb669d33-02a2-4d26-b6e6-a4b20013fbab",
   "metadata": {
    "slideshow": {
     "slide_type": "slide"
    }
   },
   "source": [
    "# WSL SDK Jupyter Python Sample Notebook\n",
    "\n",
    "This notebook contains example code that demonstrates how to dynamically create an Alpine Linux distribution using the WSL SDK project and create/manage an integrated test environment in an API way.\n",
    "\n",
    "To run this sample notebook, you need to install the pywin32 at https://github.com/mhammond/pywin32/releases.\n",
    "\n",
    "Then, get the latest version of the source code from https://github.com/wslhub/wsl-sdk-com and register your Out-of-Process COM server with the 64-bit version `regasm.exe` utility."
   ]
  },
  {
   "cell_type": "markdown",
   "id": "aa8b9e4d-78aa-4e82-94b9-998eda010a4f",
   "metadata": {
    "slideshow": {
     "slide_type": "slide"
    }
   },
   "source": [
    "## Creating WSL SDK Object\n",
    "\n",
    "Use `win32com.client.Dispatch` to create WSL SDK object."
   ]
  },
  {
   "cell_type": "code",
   "execution_count": 1,
   "id": "c3c0701b-313f-441c-b89b-f1fe8ea216d3",
   "metadata": {
    "slideshow": {
     "slide_type": "fragment"
    }
   },
   "outputs": [
    {
     "name": "stdout",
     "output_type": "stream",
     "text": [
      "A WslSdk.WslService object was created.\n"
     ]
    }
   ],
   "source": [
    "import win32com.client\n",
    "\n",
    "obj = win32com.client.Dispatch(\"WslSdk.WslService\")\n",
    "print(\"A WslSdk.WslService object was created.\")"
   ]
  },
  {
   "attachments": {
    "1f75f5b5-a687-4bf5-89e8-d8ae995508b2.png": {
     "image/png": "[encoded data removed]"
    }
   },
   "cell_type": "markdown",
   "id": "e57354c6-6231-44cd-80dd-661268f17b96",
   "metadata": {
    "slideshow": {
     "slide_type": "fragment"
    }
   },
   "source": [
    "When creating the WSL SDK object, the `WslSdk.exe` process automatically started, and a new icon is added to the tray icon on the taskbar as follows.\n",
    "\n",
    "![image.png](attachment:1f75f5b5-a687-4bf5-89e8-d8ae995508b2.png)"
   ]
  },
  {
   "cell_type": "markdown",
   "id": "98c11184-40a1-491f-9def-7a5b02935382",
   "metadata": {
    "slideshow": {
     "slide_type": "slide"
    }
   },
   "source": [
    "## Retrieve a list of installed distributions\n",
    "\n",
    "You can call the `GetDistroNames` function to retrieve the names of the WSL distributions currently installed on the system."
   ]
  },
  {
   "cell_type": "code",
   "execution_count": 3,
   "id": "176c4c14-c5d7-4f06-9034-0c098af57776",
   "metadata": {
    "slideshow": {
     "slide_type": "fragment"
    }
   },
   "outputs": [
    {
     "name": "stdout",
     "output_type": "stream",
     "text": [
      "('Ubuntu-20.04',)\n"
     ]
    }
   ],
   "source": [
    "# Get installed distro list\n",
    "list = obj.GetDistroNames()\n",
    "print(list)"
   ]
  },
  {
   "cell_type": "markdown",
   "id": "7735a832-8b20-4296-83d0-22e2a4135ead",
   "metadata": {
    "slideshow": {
     "slide_type": "slide"
    }
   },
   "source": [
    "## Create a random distribution name\n",
    "\n",
    "As a necessary function to build an automated, integrated test environment, it provides an API that automatically names English words that are easy for humans to remember, but that is unlikely to overlap in the system. I excerpted the code for this method from [here] (https://github.com/moby/docker/blob/master/pkg/namesgenerator/names-generator.go)."
   ]
  },
  {
   "cell_type": "code",
   "execution_count": 4,
   "id": "3ec160b2-b648-469b-a631-cb14cad43916",
   "metadata": {
    "slideshow": {
     "slide_type": "fragment"
    }
   },
   "outputs": [
    {
     "name": "stdout",
     "output_type": "stream",
     "text": [
      "awesome_wu\n"
     ]
    }
   ],
   "source": [
    "# Generate random name\n",
    "random_name = obj.GenerateRandomName(False)\n",
    "print(random_name)"
   ]
  },
  {
   "cell_type": "markdown",
   "id": "0aa1fdf0-3a78-4ed0-a05b-098e9d9eba6b",
   "metadata": {
    "slideshow": {
     "slide_type": "slide"
    }
   },
   "source": [
    "## Get Alpine Linux Root File System\n",
    "\n",
    "Even if you don't have a root filesystem designed for WSL, you can import and use the root filesystem into WSL as long as your CPU architecture matches."
   ]
  },
  {
   "cell_type": "code",
   "execution_count": 5,
   "id": "53d6b740-1e0c-4d09-88d5-c6d55ba52141",
   "metadata": {
    "slideshow": {
     "slide_type": "fragment"
    }
   },
   "outputs": [
    {
     "name": "stdout",
     "output_type": "stream",
     "text": [
      "Downloading distro root file system image...\n",
      " - URL: https://dl-cdn.alpinelinux.org/alpine/v3.14/releases/x86_64/alpine-minirootfs-3.14.0-x86_64.tar.gz\n",
      " - Download Path: C:\\Users\\rkttu\\AppData\\Local\\Temp\\alpine.tar.gz\n",
      " - Install Directory: /Distro\\awesome_wu\n"
     ]
    },
    {
     "data": {
      "text/plain": [
       "2727495"
      ]
     },
     "execution_count": 5,
     "metadata": {},
     "output_type": "execute_result"
    }
   ],
   "source": [
    "# Download the Alpine Linux RootFS Image\n",
    "import tempfile\n",
    "import requests\n",
    "import os\n",
    "\n",
    "target_url = \"https://dl-cdn.alpinelinux.org/alpine/v3.14/releases/x86_64/alpine-minirootfs-3.14.0-x86_64.tar.gz\"\n",
    "rootfs_filepath = os.path.join(tempfile.gettempdir(), \"alpine.tar.gz\")\n",
    "install_path = os.path.join(\"/Distro\", random_name)\n",
    "\n",
    "if not os.path.exists(install_path):\n",
    "    os.mkdir(install_path)\n",
    "\n",
    "\n",
    "print(\"Downloading distro root file system image...\")\n",
    "print(\" - URL: %s\" % target_url)\n",
    "print(\" - Download Path: %s\" % rootfs_filepath)\n",
    "print(\" - Install Directory: %s\" % install_path)\n",
    "\n",
    "r = requests.get(target_url, allow_redirects=True)\n",
    "open(rootfs_filepath, 'wb').write(r.content)"
   ]
  },
  {
   "cell_type": "markdown",
   "id": "bf6aa443-9413-417a-b7e8-595aa59ac053",
   "metadata": {
    "slideshow": {
     "slide_type": "slide"
    }
   },
   "source": [
    "## Installing the WSL distribution\n",
    "\n",
    "You can install a WSL distribution like this:"
   ]
  },
  {
   "cell_type": "code",
   "execution_count": 6,
   "id": "68c3f0f3-f0b3-48e2-b331-6b3558bcd30e",
   "metadata": {
    "slideshow": {
     "slide_type": "fragment"
    }
   },
   "outputs": [
    {
     "name": "stdout",
     "output_type": "stream",
     "text": [
      "Installing distro awesome_wu...\n",
      "Distro awesome_wu registered? True\n"
     ]
    }
   ],
   "source": [
    "# Register distro\n",
    "print(\"Installing distro %s...\" % random_name)\n",
    "obj.RegisterDistro(random_name, rootfs_filepath, install_path)\n",
    "\n",
    "# Distro register check\n",
    "result = obj.IsDistroRegistered(random_name)\n",
    "print(\"Distro %s registered? %s\" % (random_name, result))"
   ]
  },
  {
   "cell_type": "markdown",
   "id": "bdd47140-9be6-4939-990f-8cd8d925ed37",
   "metadata": {
    "slideshow": {
     "slide_type": "slide"
    }
   },
   "source": [
    "## Querying WSL Distribution Properties\n",
    "\n",
    "You can retrieve the result in the form of an object by inquiring about the properties of the WSL distribution."
   ]
  },
  {
   "cell_type": "code",
   "execution_count": 10,
   "id": "fcf5b528-bddb-4a92-beb8-ecce08a63d21",
   "metadata": {
    "slideshow": {
     "slide_type": "fragment"
    }
   },
   "outputs": [
    {
     "name": "stdout",
     "output_type": "stream",
     "text": [
      " - Distro ID: bd6760cb-5519-462e-8374-9c3fa05da3c8\n",
      " - Distro Name: awesome_wu\n",
      " - Environment Variables: <PyIUnknown at 0x00000194429CBA10 with obj at 0x0000019442738A80>\n",
      " - Default Uid: 0\n",
      " - Flags: 15\n",
      " - Win32 Interop Enabled: True\n",
      " - Drive Mouting Enabled: True\n",
      " - NT Path Append Enabled: True\n",
      " - WSL Version: 2\n"
     ]
    }
   ],
   "source": [
    "# Metadata query\n",
    "o = obj.QueryDistroInfo(random_name)\n",
    "print(\" - Distro ID: %s\" % o.DistroId)\n",
    "print(\" - Distro Name: %s\" % o.DistroName)\n",
    "print(\" - Environment Variables: %s\" % o.DefaultEnvironmentVariables)\n",
    "print(\" - Default Uid: %s\" % o.DefaultUid)\n",
    "print(\" - Flags: %s\" % o.DistroFlags)\n",
    "print(\" - Win32 Interop Enabled: %s\" % o.EnableInterop)\n",
    "print(\" - Drive Mouting Enabled: %s\" % o.EnableDriveMounting)\n",
    "print(\" - NT Path Append Enabled: %s\" % o.AppendNtPath)\n",
    "print(\" - WSL Version: %s\" % o.WslVersion)"
   ]
  },
  {
   "cell_type": "markdown",
   "id": "49ccaa4d-aa8b-4f51-923e-e001377dab47",
   "metadata": {
    "slideshow": {
     "slide_type": "slide"
    }
   },
   "source": [
    "## Running the command\n",
    "\n",
    "You can execute a command of a specific WSL distribution in an API way and get the result as a string. Internally, it uses Win32 Anonymous Pipe communication to send and receive data."
   ]
  },
  {
   "cell_type": "code",
   "execution_count": 11,
   "id": "ad390554-525a-426c-820f-212835785903",
   "metadata": {
    "slideshow": {
     "slide_type": "fragment"
    }
   },
   "outputs": [
    {
     "name": "stdout",
     "output_type": "stream",
     "text": [
      "fetch https://dl-cdn.alpinelinux.org/alpine/v3.14/main/x86_64/APKINDEX.tar.gz\n",
      "fetch https://dl-cdn.alpinelinux.org/alpine/v3.14/community/x86_64/APKINDEX.tar.gz\n",
      "(1/5) Installing xxd (8.2.2956-r0)\n",
      "(2/5) Installing lua5.3-libs (5.3.6-r0)\n",
      "(3/5) Installing ncurses-terminfo-base (6.2_p20210612-r0)\n",
      "(4/5) Installing ncurses-libs (6.2_p20210612-r0)\n",
      "(5/5) Installing vim (8.2.2956-r0)\n",
      "Executing busybox-1.33.1-r2.trigger\n",
      "OK: 25 MiB in 19 packages\n",
      "\n"
     ]
    }
   ],
   "source": [
    "# Run WSL Command\n",
    "result = obj.RunWslCommand(o.DistroName, \"apk add vim\")\n",
    "print(result)"
   ]
  },
  {
   "cell_type": "markdown",
   "id": "ec306722-c155-400d-bc1b-e8592d3868eb",
   "metadata": {
    "slideshow": {
     "slide_type": "slide"
    }
   },
   "source": [
    "## Automatic creation of Distro Launcher\n",
    "\n",
    "WslRegisterDistribution API automatically creates a Linux file system for WSL1 or WSL2 based on the EXE file path that calls the API unconditionally. The WSL SDK automatically creates a simple EXE file dedicated only to WSL registration to overcome this problem. At the same time, it starts a launcher that allows you to directly enter the distribution by simply calling the EXE file later."
   ]
  },
  {
   "cell_type": "code",
   "execution_count": 12,
   "id": "a162915f-2346-4a4f-919d-4124cfb63542",
   "metadata": {
    "slideshow": {
     "slide_type": "fragment"
    }
   },
   "outputs": [
    {
     "data": {
      "text/plain": [
       "CompletedProcess(args=['C:\\\\Windows\\\\explorer.exe', '/select,', '\\\\Distro\\\\awesome_wu\\\\awesome_wu.exe'], returncode=1)"
      ]
     },
     "execution_count": 12,
     "metadata": {},
     "output_type": "execute_result"
    }
   ],
   "source": [
    "# Revealing launcher executable\n",
    "import subprocess\n",
    "\n",
    "explorer_path = os.path.join(os.getenv('WINDIR'), 'explorer.exe')\n",
    "launcher_path = os.path.join(install_path, \"%s.exe\" % o.DistroName)\n",
    "subprocess.run([explorer_path, '/select,', os.path.normpath(launcher_path)])"
   ]
  },
  {
   "attachments": {
    "image.png": {
     "image/png": "[encoded data removed]"
    }
   },
   "cell_type": "markdown",
   "id": "b0b4ada8",
   "metadata": {
    "slideshow": {
     "slide_type": "slide"
    }
   },
   "source": [
    "In the folder window that opens after running this sample code, double-click the distribution launcher executable file and check if the VIM editor exists; you can run the VIM editor as shown in the picture below.\n",
    "\n",
    "![image.png](attachment:image.png)"
   ]
  },
  {
   "cell_type": "markdown",
   "id": "a807fb44-9df5-40e5-b798-66593337aad2",
   "metadata": {
    "slideshow": {
     "slide_type": "slide"
    }
   },
   "source": [
    "## Unregister your WSL distribution\n",
    "\n",
    "You can unregister a registered WSL distribution as shown below."
   ]
  },
  {
   "cell_type": "code",
   "execution_count": 13,
   "id": "345fb3bd-9676-4235-8b15-cd17765afca2",
   "metadata": {
    "slideshow": {
     "slide_type": "fragment"
    }
   },
   "outputs": [
    {
     "name": "stdout",
     "output_type": "stream",
     "text": [
      "Uninstalling distro awesome_wu...\n",
      "Distro awesome_wu registered? False\n"
     ]
    }
   ],
   "source": [
    "# Unregister distro\n",
    "print(\"Uninstalling distro %s...\" % random_name)\n",
    "obj.UnregisterDistro(random_name)\n",
    "\n",
    "# Distro register check\n",
    "result = obj.IsDistroRegistered(random_name)\n",
    "print(\"Distro %s registered? %s\" % (random_name, result))"
   ]
  }
 ],
 "metadata": {
  "celltoolbar": "Slideshow",
  "kernelspec": {
   "display_name": "Python 3",
   "language": "python",
   "name": "python3"
  },
  "language_info": {
   "codemirror_mode": {
    "name": "ipython",
    "version": 3
   },
   "file_extension": ".py",
   "mimetype": "text/x-python",
   "name": "python",
   "nbconvert_exporter": "python",
   "pygments_lexer": "ipython3",
   "version": "3.8.8"
  }
 },
 "nbformat": 4,
 "nbformat_minor": 5
}
